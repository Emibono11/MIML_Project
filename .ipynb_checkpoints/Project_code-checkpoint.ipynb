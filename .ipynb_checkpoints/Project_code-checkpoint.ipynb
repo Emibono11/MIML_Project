{
 "cells": [
  {
   "cell_type": "markdown",
   "metadata": {},
   "source": [
    "# Classification Assigment"
   ]
  },
  {
   "cell_type": "code",
   "execution_count": null,
   "metadata": {},
   "outputs": [],
   "source": [
    "# dataset upload\n",
    "\n",
    "import pandas as pd \n",
    "\n",
    "ds = pd.read_csv(\"model.csv\")\n",
    "ds"
   ]
  },
  {
   "cell_type": "code",
   "execution_count": 4,
   "metadata": {},
   "outputs": [
    {
     "name": "stdout",
     "output_type": "stream",
     "text": [
      "Target\n",
      "0    69878\n",
      "1    32473\n",
      "dtype: int64\n"
     ]
    },
    {
     "data": {
      "image/png": "[encoded data removed]",
      "text/plain": [
       "<Figure size 432x288 with 1 Axes>"
      ]
     },
     "metadata": {},
     "output_type": "display_data"
    }
   ],
   "source": [
    "# Look at imbalancing of target\n",
    "\n",
    "print(ds.groupby('Target').size()) #\"target\" is the name of the target column, change it accordingly to your dataset\n",
    "import matplotlib.pyplot as plt\n",
    "import seaborn as sns\n",
    "%matplotlib inline\n",
    "plt.style.use('ggplot')\n",
    "\n",
    "#Visualize Class Counts\n",
    "sns.countplot(y=ds.Target ,data=ds) #\"target\" is the name of the target column, change it accordingly to your dataset\n",
    "plt.xlabel(\"count of each class\")\n",
    "plt.ylabel(\"classes\")\n",
    "plt.show()"
   ]
  },
  {
   "cell_type": "markdown",
   "metadata": {},
   "source": [
    "## Data pre-processing"
   ]
  },
  {
   "cell_type": "code",
   "execution_count": null,
   "metadata": {},
   "outputs": [],
   "source": [
    "# data pre-processing -> DATA PREPARATION (validation, transformation, reduction) AND ESPLORATION (univ, bivar, multivar)\n",
    "# -- DATA VALIDATION --\n",
    "# missing data\n",
    "\n",
    "# ...code..."
   ]
  },
  {
   "cell_type": "code",
   "execution_count": null,
   "metadata": {},
   "outputs": [],
   "source": [
    "# inconsistency\n",
    "\n",
    "# ...code..."
   ]
  },
  {
   "cell_type": "code",
   "execution_count": null,
   "metadata": {},
   "outputs": [],
   "source": [
    "# noisy data (outliers)\n",
    "\n",
    "# ...code..."
   ]
  },
  {
   "cell_type": "code",
   "execution_count": null,
   "metadata": {},
   "outputs": [],
   "source": [
    "# plotting of data (histograms for empirical density) + measure of central tendency, dispersion, relative location,\n",
    "# asimmetry of density curve, kurtosis\n",
    "\n",
    "# ...code..."
   ]
  },
  {
   "cell_type": "code",
   "execution_count": null,
   "metadata": {},
   "outputs": [],
   "source": [
    "# -- DATA TRANSFORMATION --\n",
    "# standardization (!! in classification tree no standardization !!)\n",
    "\n",
    "# ...code...\n",
    "\n",
    "# plotting of data (histograms for empirical density) + measure of central tendency, dispersion, relative location,\n",
    "# asimmetry of density curve, kurtosis\n",
    "\n",
    "# ...code...\n",
    "\n",
    "# check if normal probability fall in a streight line\n",
    "\n",
    "# ...code..."
   ]
  },
  {
   "cell_type": "code",
   "execution_count": null,
   "metadata": {},
   "outputs": [],
   "source": [
    "# feature extraction (make num atribute 2,4,6,7; new atributes; ...)\n",
    "\n",
    "# ...code...\n",
    "\n",
    "# plotting of data (histograms for empirical density) + measure of central tendency, dispersion, relative location\n",
    "\n",
    "# ...code...\n",
    "\n",
    "# check if normal probability fall in a streight line\n",
    "\n",
    "# ...code..."
   ]
  },
  {
   "cell_type": "code",
   "execution_count": null,
   "metadata": {},
   "outputs": [],
   "source": [
    "# -- DATA REDUCTION --\n",
    "# reduce the number of obs (if needed) -> SAMPLING\n",
    "\n",
    "# ...code..."
   ]
  },
  {
   "cell_type": "code",
   "execution_count": null,
   "metadata": {},
   "outputs": [],
   "source": [
    "# reduce the number of feature/atributes \n",
    "# -> FEATURE SELECTION (filter [we can filter by correlation with target], wrapper)\n",
    "# (!! no need in classification tree !! embedded)\n",
    "\n",
    "# ...code...\n",
    "\n",
    "# -> PCA\n",
    "\n",
    "# ...code..."
   ]
  },
  {
   "cell_type": "code",
   "execution_count": null,
   "metadata": {},
   "outputs": [],
   "source": [
    "# reduce the number of value (discretization -> pg 123 in pdf)\n",
    "\n",
    "# ...code..."
   ]
  },
  {
   "cell_type": "code",
   "execution_count": null,
   "metadata": {},
   "outputs": [],
   "source": [
    "# plotting of data (histograms for empirical density) + measure of central tendency, dispersion, relative location\n",
    "\n",
    "# ...code...\n",
    "\n",
    "# check if normal probability fall in a streight line\n",
    "\n",
    "# ...code..."
   ]
  },
  {
   "cell_type": "code",
   "execution_count": null,
   "metadata": {},
   "outputs": [],
   "source": [
    "# models\n",
    "\n",
    "# ...code..."
   ]
  }
 ],
 "metadata": {
  "kernelspec": {
   "display_name": "Python 3",
   "language": "python",
   "name": "python3"
  },
  "language_info": {
   "codemirror_mode": {
    "name": "ipython",
    "version": 3
   },
   "file_extension": ".py",
   "mimetype": "text/x-python",
   "name": "python",
   "nbconvert_exporter": "python",
   "pygments_lexer": "ipython3",
   "version": "3.7.4"
  }
 },
 "nbformat": 4,
 "nbformat_minor": 2
}

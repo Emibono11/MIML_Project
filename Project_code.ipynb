{
 "cells": [
  {
   "cell_type": "code",
   "execution_count": null,
   "metadata": {},
   "outputs": [],
   "source": [
    "# dataset upload\n",
    "\n",
    "# ...code..."
   ]
  },
  {
   "cell_type": "code",
   "execution_count": null,
   "metadata": {},
   "outputs": [],
   "source": [
    "# data pre-processing -> DATA PREPARATION (validation, transformation, reduction) AND ESPLORATION (univ, bivar, multivar)\n",
    "# -- DATA VALIDATION --\n",
    "# missing data\n",
    "\n",
    "# ...code..."
   ]
  },
  {
   "cell_type": "code",
   "execution_count": null,
   "metadata": {},
   "outputs": [],
   "source": [
    "# inconsistency\n",
    "\n",
    "# ...code..."
   ]
  },
  {
   "cell_type": "code",
   "execution_count": null,
   "metadata": {},
   "outputs": [],
   "source": [
    "# noisy data (outliers)\n",
    "\n",
    "# ...code..."
   ]
  },
  {
   "cell_type": "code",
   "execution_count": null,
   "metadata": {},
   "outputs": [],
   "source": [
    "# plotting of data (histograms for empirical density) + measure of central tendency, dispersion, relative location,\n",
    "# asimmetry of density curve, kurtosis\n",
    "\n",
    "# ...code..."
   ]
  },
  {
   "cell_type": "code",
   "execution_count": null,
   "metadata": {},
   "outputs": [],
   "source": [
    "# -- DATA TRANSFORMATION --\n",
    "# standardization (!! in classification tree no standardization !!)\n",
    "\n",
    "# ...code...\n",
    "\n",
    "# plotting of data (histograms for empirical density) + measure of central tendency, dispersion, relative location,\n",
    "# asimmetry of density curve, kurtosis\n",
    "\n",
    "# ...code...\n",
    "\n",
    "# check if normal probability fall in a streight line\n",
    "\n",
    "# ...code..."
   ]
  },
  {
   "cell_type": "code",
   "execution_count": null,
   "metadata": {},
   "outputs": [],
   "source": [
    "# feature extraction (make num atribute 2,4,6,7; new atributes; ...)\n",
    "\n",
    "# ...code...\n",
    "\n",
    "# plotting of data (histograms for empirical density) + measure of central tendency, dispersion, relative location\n",
    "\n",
    "# ...code...\n",
    "\n",
    "# check if normal probability fall in a streight line\n",
    "\n",
    "# ...code..."
   ]
  },
  {
   "cell_type": "code",
   "execution_count": null,
   "metadata": {},
   "outputs": [],
   "source": [
    "# -- DATA REDUCTION --\n",
    "# reduce the number of obs (if needed) -> SAMPLING\n",
    "\n",
    "# ...code..."
   ]
  },
  {
   "cell_type": "code",
   "execution_count": null,
   "metadata": {},
   "outputs": [],
   "source": [
    "# reduce the number of feature/atributes -> FEATURE SELECTION (filter [we can filter by correlation with target], wrapper)\n",
    "# (!! no need in classification tree !! embedded) / PCA\n",
    "\n",
    "# ...code..."
   ]
  },
  {
   "cell_type": "code",
   "execution_count": null,
   "metadata": {},
   "outputs": [],
   "source": [
    "# reduce the number of value (discretization -> pg 123 in pdf)\n",
    "\n",
    "# ...code..."
   ]
  },
  {
   "cell_type": "code",
   "execution_count": null,
   "metadata": {},
   "outputs": [],
   "source": [
    "# plotting of data (histograms for empirical density) + measure of central tendency, dispersion, relative location\n",
    "\n",
    "# ...code...\n",
    "\n",
    "# check if normal probability fall in a streight line\n",
    "\n",
    "# ...code..."
   ]
  },
  {
   "cell_type": "code",
   "execution_count": null,
   "metadata": {},
   "outputs": [],
   "source": [
    "# models\n",
    "\n",
    "# ...code..."
   ]
  }
 ],
 "metadata": {
  "kernelspec": {
   "display_name": "Python 3",
   "language": "python",
   "name": "python3"
  },
  "language_info": {
   "codemirror_mode": {
    "name": "ipython",
    "version": 3
   },
   "file_extension": ".py",
   "mimetype": "text/x-python",
   "name": "python",
   "nbconvert_exporter": "python",
   "pygments_lexer": "ipython3",
   "version": "3.7.4"
  }
 },
 "nbformat": 4,
 "nbformat_minor": 2
}

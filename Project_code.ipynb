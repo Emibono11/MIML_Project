{
 "cells": [
  {
   "cell_type": "markdown",
   "metadata": {},
   "source": [
    "# Classification Assigment"
   ]
  },
  {
   "cell_type": "code",
   "execution_count": 21,
   "metadata": {},
   "outputs": [
    {
     "data": {
      "text/html": [
       "<div>\n",
       "<style scoped>\n",
       "    .dataframe tbody tr th:only-of-type {\n",
       "        vertical-align: middle;\n",
       "    }\n",
       "\n",
       "    .dataframe tbody tr th {\n",
       "        vertical-align: top;\n",
       "    }\n",
       "\n",
       "    .dataframe thead th {\n",
       "        text-align: right;\n",
       "    }\n",
       "</style>\n",
       "<table border=\"1\" class=\"dataframe\">\n",
       "  <thead>\n",
       "    <tr style=\"text-align: right;\">\n",
       "      <th></th>\n",
       "      <th>id</th>\n",
       "      <th>Gender</th>\n",
       "      <th>Age</th>\n",
       "      <th>Driving_License</th>\n",
       "      <th>Licence_Type</th>\n",
       "      <th>Region_Code</th>\n",
       "      <th>Previously_Insured</th>\n",
       "      <th>Vehicle_Age</th>\n",
       "      <th>Vehicle_Damage</th>\n",
       "      <th>Annual_Premium</th>\n",
       "      <th>Policy_Sales_Channel</th>\n",
       "      <th>Seniority</th>\n",
       "      <th>Target</th>\n",
       "    </tr>\n",
       "  </thead>\n",
       "  <tbody>\n",
       "    <tr>\n",
       "      <td>0</td>\n",
       "      <td>1</td>\n",
       "      <td>Female</td>\n",
       "      <td>44</td>\n",
       "      <td>1</td>\n",
       "      <td>M</td>\n",
       "      <td>30</td>\n",
       "      <td>No</td>\n",
       "      <td>1-2 Year</td>\n",
       "      <td>Yes</td>\n",
       "      <td>25741</td>\n",
       "      <td>154</td>\n",
       "      <td>152</td>\n",
       "      <td>0</td>\n",
       "    </tr>\n",
       "    <tr>\n",
       "      <td>1</td>\n",
       "      <td>2</td>\n",
       "      <td>Male</td>\n",
       "      <td>23</td>\n",
       "      <td>1</td>\n",
       "      <td>M</td>\n",
       "      <td>3</td>\n",
       "      <td>Yes</td>\n",
       "      <td>&lt; 1 Year</td>\n",
       "      <td>No</td>\n",
       "      <td>2630</td>\n",
       "      <td>152</td>\n",
       "      <td>256</td>\n",
       "      <td>0</td>\n",
       "    </tr>\n",
       "    <tr>\n",
       "      <td>2</td>\n",
       "      <td>3</td>\n",
       "      <td>Male</td>\n",
       "      <td>43</td>\n",
       "      <td>1</td>\n",
       "      <td>C</td>\n",
       "      <td>28</td>\n",
       "      <td>No</td>\n",
       "      <td>1-2 Year</td>\n",
       "      <td>Yes</td>\n",
       "      <td>70720</td>\n",
       "      <td>52</td>\n",
       "      <td>224</td>\n",
       "      <td>0</td>\n",
       "    </tr>\n",
       "    <tr>\n",
       "      <td>3</td>\n",
       "      <td>4</td>\n",
       "      <td>Male</td>\n",
       "      <td>60</td>\n",
       "      <td>1</td>\n",
       "      <td>B</td>\n",
       "      <td>28</td>\n",
       "      <td>Yes</td>\n",
       "      <td>1-2 Year</td>\n",
       "      <td>No</td>\n",
       "      <td>48512</td>\n",
       "      <td>26</td>\n",
       "      <td>86</td>\n",
       "      <td>0</td>\n",
       "    </tr>\n",
       "    <tr>\n",
       "      <td>4</td>\n",
       "      <td>5</td>\n",
       "      <td>Female</td>\n",
       "      <td>42</td>\n",
       "      <td>1</td>\n",
       "      <td>B</td>\n",
       "      <td>46</td>\n",
       "      <td>No</td>\n",
       "      <td>1-2 Year</td>\n",
       "      <td>Yes</td>\n",
       "      <td>32169</td>\n",
       "      <td>124</td>\n",
       "      <td>132</td>\n",
       "      <td>0</td>\n",
       "    </tr>\n",
       "    <tr>\n",
       "      <td>...</td>\n",
       "      <td>...</td>\n",
       "      <td>...</td>\n",
       "      <td>...</td>\n",
       "      <td>...</td>\n",
       "      <td>...</td>\n",
       "      <td>...</td>\n",
       "      <td>...</td>\n",
       "      <td>...</td>\n",
       "      <td>...</td>\n",
       "      <td>...</td>\n",
       "      <td>...</td>\n",
       "      <td>...</td>\n",
       "      <td>...</td>\n",
       "    </tr>\n",
       "    <tr>\n",
       "      <td>102346</td>\n",
       "      <td>102347</td>\n",
       "      <td>Female</td>\n",
       "      <td>25</td>\n",
       "      <td>1</td>\n",
       "      <td>B</td>\n",
       "      <td>32</td>\n",
       "      <td>Yes</td>\n",
       "      <td>&lt; 1 Year</td>\n",
       "      <td>No</td>\n",
       "      <td>34695</td>\n",
       "      <td>152</td>\n",
       "      <td>133</td>\n",
       "      <td>0</td>\n",
       "    </tr>\n",
       "    <tr>\n",
       "      <td>102347</td>\n",
       "      <td>102348</td>\n",
       "      <td>Female</td>\n",
       "      <td>47</td>\n",
       "      <td>1</td>\n",
       "      <td>M</td>\n",
       "      <td>28</td>\n",
       "      <td>No</td>\n",
       "      <td>1-2 Year</td>\n",
       "      <td>Yes</td>\n",
       "      <td>30564</td>\n",
       "      <td>26</td>\n",
       "      <td>114</td>\n",
       "      <td>1</td>\n",
       "    </tr>\n",
       "    <tr>\n",
       "      <td>102348</td>\n",
       "      <td>102349</td>\n",
       "      <td>Male</td>\n",
       "      <td>72</td>\n",
       "      <td>1</td>\n",
       "      <td>M</td>\n",
       "      <td>8</td>\n",
       "      <td>No</td>\n",
       "      <td>&gt; 2 Years</td>\n",
       "      <td>Yes</td>\n",
       "      <td>52844</td>\n",
       "      <td>124</td>\n",
       "      <td>92</td>\n",
       "      <td>1</td>\n",
       "    </tr>\n",
       "    <tr>\n",
       "      <td>102349</td>\n",
       "      <td>102350</td>\n",
       "      <td>Female</td>\n",
       "      <td>25</td>\n",
       "      <td>1</td>\n",
       "      <td>M</td>\n",
       "      <td>11</td>\n",
       "      <td>Yes</td>\n",
       "      <td>&lt; 1 Year</td>\n",
       "      <td>No</td>\n",
       "      <td>26343</td>\n",
       "      <td>152</td>\n",
       "      <td>127</td>\n",
       "      <td>0</td>\n",
       "    </tr>\n",
       "    <tr>\n",
       "      <td>102350</td>\n",
       "      <td>102351</td>\n",
       "      <td>Male</td>\n",
       "      <td>70</td>\n",
       "      <td>1</td>\n",
       "      <td>D</td>\n",
       "      <td>28</td>\n",
       "      <td>No</td>\n",
       "      <td>1-2 Year</td>\n",
       "      <td>Yes</td>\n",
       "      <td>2630</td>\n",
       "      <td>122</td>\n",
       "      <td>57</td>\n",
       "      <td>0</td>\n",
       "    </tr>\n",
       "  </tbody>\n",
       "</table>\n",
       "<p>102351 rows × 13 columns</p>\n",
       "</div>"
      ],
      "text/plain": [
       "            id  Gender  Age  Driving_License Licence_Type  Region_Code  \\\n",
       "0            1  Female   44                1            M           30   \n",
       "1            2    Male   23                1            M            3   \n",
       "2            3    Male   43                1            C           28   \n",
       "3            4    Male   60                1            B           28   \n",
       "4            5  Female   42                1            B           46   \n",
       "...        ...     ...  ...              ...          ...          ...   \n",
       "102346  102347  Female   25                1            B           32   \n",
       "102347  102348  Female   47                1            M           28   \n",
       "102348  102349    Male   72                1            M            8   \n",
       "102349  102350  Female   25                1            M           11   \n",
       "102350  102351    Male   70                1            D           28   \n",
       "\n",
       "       Previously_Insured Vehicle_Age Vehicle_Damage  Annual_Premium  \\\n",
       "0                      No    1-2 Year            Yes           25741   \n",
       "1                     Yes    < 1 Year             No            2630   \n",
       "2                      No    1-2 Year            Yes           70720   \n",
       "3                     Yes    1-2 Year             No           48512   \n",
       "4                      No    1-2 Year            Yes           32169   \n",
       "...                   ...         ...            ...             ...   \n",
       "102346                Yes    < 1 Year             No           34695   \n",
       "102347                 No    1-2 Year            Yes           30564   \n",
       "102348                 No   > 2 Years            Yes           52844   \n",
       "102349                Yes    < 1 Year             No           26343   \n",
       "102350                 No    1-2 Year            Yes            2630   \n",
       "\n",
       "        Policy_Sales_Channel  Seniority  Target  \n",
       "0                        154        152       0  \n",
       "1                        152        256       0  \n",
       "2                         52        224       0  \n",
       "3                         26         86       0  \n",
       "4                        124        132       0  \n",
       "...                      ...        ...     ...  \n",
       "102346                   152        133       0  \n",
       "102347                    26        114       1  \n",
       "102348                   124         92       1  \n",
       "102349                   152        127       0  \n",
       "102350                   122         57       0  \n",
       "\n",
       "[102351 rows x 13 columns]"
      ]
     },
     "execution_count": 21,
     "metadata": {},
     "output_type": "execute_result"
    }
   ],
   "source": [
    "# dataset upload\n",
    "import pandas as pd \n",
    "\n",
    "ds = pd.read_csv(\"model.csv\")\n",
    "ds"
   ]
  },
  {
   "cell_type": "code",
   "execution_count": 4,
   "metadata": {},
   "outputs": [
    {
     "name": "stdout",
     "output_type": "stream",
     "text": [
      "Target\n",
      "0    69878\n",
      "1    32473\n",
      "dtype: int64\n"
     ]
    },
    {
     "data": {
      "image/png": "[encoded data removed]",
      "text/plain": [
       "<Figure size 432x288 with 1 Axes>"
      ]
     },
     "metadata": {},
     "output_type": "display_data"
    }
   ],
   "source": [
    "# Look at imbalancing of target\n",
    "print(ds.groupby('Target').size()) #\"target\" is the name of the target column, change it accordingly to your dataset\n",
    "import matplotlib.pyplot as plt\n",
    "import seaborn as sns\n",
    "%matplotlib inline\n",
    "plt.style.use('ggplot')\n",
    "\n",
    "#Visualize Class Counts\n",
    "sns.countplot(y=ds.Target ,data=ds) #\"target\" is the name of the target column, change it accordingly to your dataset\n",
    "plt.xlabel(\"count of each class\")\n",
    "plt.ylabel(\"classes\")\n",
    "plt.show()"
   ]
  },
  {
   "cell_type": "markdown",
   "metadata": {},
   "source": [
    "## Data pre-processing: DATA PREPARATION (validation, transformation, reduction) AND ESPLORATION (univ, bivar, multivar)\n",
    "### -- DATA VALIDATION --"
   ]
  },
  {
   "cell_type": "code",
   "execution_count": 29,
   "metadata": {},
   "outputs": [
    {
     "data": {
      "text/plain": [
       "0    1\n",
       "dtype: int64"
      ]
     },
     "execution_count": 29,
     "metadata": {},
     "output_type": "execute_result"
    }
   ],
   "source": [
    "# missing data\n",
    "\n",
    "nan = ds.isna()\n",
    "nan.sum(axis = 0, skipna = True) #5091 missing data from Driving_License -> 4.97% with value 0/1 \n",
    "# -> I think we should eliminate the row"
   ]
  },
  {
   "cell_type": "code",
   "execution_count": 23,
   "metadata": {},
   "outputs": [],
   "source": [
    "# inconsistency\n",
    "\n",
    "# ...code..."
   ]
  },
  {
   "cell_type": "code",
   "execution_count": null,
   "metadata": {},
   "outputs": [],
   "source": [
    "# noisy data (outliers)\n",
    "\n",
    "# ...code..."
   ]
  },
  {
   "cell_type": "code",
   "execution_count": null,
   "metadata": {},
   "outputs": [],
   "source": [
    "# plotting of data (histograms for empirical density) + measure of central tendency, dispersion, relative location,\n",
    "# asimmetry of density curve, kurtosis\n",
    "\n",
    "# ...code..."
   ]
  },
  {
   "cell_type": "markdown",
   "metadata": {},
   "source": [
    "### -- DATA TRANSFORMATION --"
   ]
  },
  {
   "cell_type": "code",
   "execution_count": null,
   "metadata": {},
   "outputs": [],
   "source": [
    "# standardization (!! in classification tree no standardization !!)\n",
    "\n",
    "# ...code...\n",
    "\n",
    "# plotting of data (histograms for empirical density) + measure of central tendency, dispersion, relative location,\n",
    "# asimmetry of density curve, kurtosis\n",
    "\n",
    "# ...code...\n",
    "\n",
    "# check if normal probability fall in a streight line\n",
    "\n",
    "# ...code..."
   ]
  },
  {
   "cell_type": "code",
   "execution_count": null,
   "metadata": {},
   "outputs": [],
   "source": [
    "# feature extraction (make num atribute 2,4,6,7; new atributes; ...)\n",
    "\n",
    "# ...code...\n",
    "\n",
    "# plotting of data (histograms for empirical density) + measure of central tendency, dispersion, relative location\n",
    "\n",
    "# ...code...\n",
    "\n",
    "# check if normal probability fall in a streight line\n",
    "\n",
    "# ...code..."
   ]
  },
  {
   "cell_type": "markdown",
   "metadata": {},
   "source": [
    "### -- DATA REDUCTION --"
   ]
  },
  {
   "cell_type": "code",
   "execution_count": null,
   "metadata": {},
   "outputs": [],
   "source": [
    "# reduce the number of obs (if needed) -> SAMPLING\n",
    "\n",
    "# ...code..."
   ]
  },
  {
   "cell_type": "code",
   "execution_count": null,
   "metadata": {},
   "outputs": [],
   "source": [
    "# reduce the number of feature/atributes \n",
    "# -> FEATURE SELECTION (filter [we can filter by correlation with target], wrapper)\n",
    "# (!! no need in classification tree !! embedded)\n",
    "\n",
    "# ...code...\n",
    "\n",
    "# -> PCA\n",
    "\n",
    "# ...code..."
   ]
  },
  {
   "cell_type": "code",
   "execution_count": null,
   "metadata": {},
   "outputs": [],
   "source": [
    "# reduce the number of value (discretization -> pg 123 in pdf)\n",
    "\n",
    "# ...code..."
   ]
  },
  {
   "cell_type": "code",
   "execution_count": null,
   "metadata": {},
   "outputs": [],
   "source": [
    "# plotting of data (histograms for empirical density) + measure of central tendency, dispersion, relative location\n",
    "\n",
    "# ...code...\n",
    "\n",
    "# check if normal probability fall in a streight line\n",
    "\n",
    "# ...code..."
   ]
  },
  {
   "cell_type": "markdown",
   "metadata": {},
   "source": [
    "## Models"
   ]
  },
  {
   "cell_type": "code",
   "execution_count": null,
   "metadata": {},
   "outputs": [],
   "source": [
    "# models\n",
    "\n",
    "# ...code..."
   ]
  }
 ],
 "metadata": {
  "kernelspec": {
   "display_name": "Python 3",
   "language": "python",
   "name": "python3"
  },
  "language_info": {
   "codemirror_mode": {
    "name": "ipython",
    "version": 3
   },
   "file_extension": ".py",
   "mimetype": "text/x-python",
   "name": "python",
   "nbconvert_exporter": "python",
   "pygments_lexer": "ipython3",
   "version": "3.7.4"
  }
 },
 "nbformat": 4,
 "nbformat_minor": 2
}
